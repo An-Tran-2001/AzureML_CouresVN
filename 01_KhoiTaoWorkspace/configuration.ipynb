{
 "cells": [
  {
   "cell_type": "markdown",
   "metadata": {},
   "source": [
    "Copyright (c) TranAn. All rights reserved.\n",
    "\n",
    "Licensed under the MIT License.\n",
    "\n",
    "Email: tranandeveloper@gmail.com"
   ]
  },
  {
   "cell_type": "markdown",
   "metadata": {},
   "source": [
    "# Thiết lập cấu hình dịch vụ Azure Machine Learning\n",
    "\n",
    "_**Cài đặt cấu hình dịch vụ Azure Machine learning của riêng bạn từ đầu qua notebook này**_\n",
    "\n",
    "***Lưu ý***: Bạn cầu phải có sơ bộ kiến thức về các dịch vụ của Azure"
   ]
  },
  {
   "cell_type": "markdown",
   "metadata": {},
   "source": [
    "# Hiểu và cài đặt dịch vụ Azure Machine Learning\n",
    "---\n",
    "## Introduction\n",
    "1. Các bước để khởi tạo dịch vụ Azure ML:\n",
    "\n",
    "    Tổng quan AzureML là một service và phải được quản lý bởi một resource group.\n",
    "<center>\n",
    "    <image src=\"overview-azure-resources.png\" height=\"500px\"></image>\n",
    "    <p>Mô hình tổng quan của AzureML service</p>\n",
    "</center>\n",
    "\n",
    "2. Các kiểu khởi tạo dịch vụ:\n",
    "\n",
    "    ***Thông thường để khởi tạo dịch vụ AzureML bạn có thể dùng 1 trong 4 cách sau***:\n",
    "    - Khởi tạo dịch vụ AzureML trên cổng dịch vụ của Azure\n",
    "    - Khởi tạo dịch vụ bằng Azure RM (Azure Resource Manager) template\n",
    "    - Khởi tạo dịch vụ ngay trên local với Azure CLI (Azure Command Line Interface) chỉ sử dụng v2\n",
    "    - Khởi tạo dịch vụ AzureML bằng python SDK"
   ]
  },
  {
   "cell_type": "markdown",
   "metadata": {},
   "source": [
    "## Khởi tạo dịch vụ bằng python SDK\n",
    "---\n",
    "\n",
    "***Lưu ý***: Hãy chắc chắn rằng bạn đã cài đặt đầy đủ dependences cho notebook này. Nếu chưa hãy cài đặt nó qua lệnh:\n",
    "\n",
    "```\n",
    "pip install azureml-core matplotlib tqdm scikit-learn\n",
    "```\n",
    "Sau khi cài đặt hãy check lại version ở cell phía dưới"
   ]
  },
  {
   "cell_type": "code",
   "execution_count": 1,
   "metadata": {},
   "outputs": [
    {
     "name": "stdout",
     "output_type": "stream",
     "text": [
      "This notebook was created using version 1.55.0 of the Azure ML SDK\n",
      "You are currently using version 1.55.0 of the Azure ML SDK\n"
     ]
    }
   ],
   "source": [
    "# Kiểm tra version đã cài đặt hay chưa\n",
    "import azureml.core\n",
    "\n",
    "print(\"This notebook was created using version 1.55.0 of the Azure ML SDK\")\n",
    "print(\"You are currently using version\", azureml.core.VERSION, \"of the Azure ML SDK\")"
   ]
  },
  {
   "cell_type": "markdown",
   "metadata": {},
   "source": [
    "---\n",
    "### Khởi tạo AzureML Workspace của bạn\n",
    "\n",
    "***Trước khi khởi tạo hãy chắc chắn rằng***: Bạn đã khởi tạo một resource group và máy chủ mà bạn mong muốn đặt workspace của mình. Sau đó hãy lấy chúng và nhét vào env hoặc bạn có thể thay thế trực tiếp các biến.\n",
    "\n",
    "**Các thông tin cần thiết cung cấp cho việc khởi tạo AML**:\n",
    "- SUBSCRIPTION_ID: subscription id\n",
    "- RESOURCE_GROUP: resource group đã được khởi tạo trước đó\n",
    "- WORKSPACE_NAME: tên cho AML workspace\n",
    "- WORKSPACE_REGION: Địa chỉ mong muốn đặt máy chủ workspace của bạn\n",
    "\n",
    "**Lưu ý**: Trước khi khởi tạo hãy đăng nhập vào tài khoản của bạn trước với AzureCLI\n",
    "```\n",
    "az login\n",
    "```\n",
    "\n",
    "> Ở đây vì lý do bảo mật nên sẽ ko public khóa. Bạn có thể hoàn toàn thay thế và sử dụng value của chính mình"
   ]
  },
  {
   "cell_type": "code",
   "execution_count": 1,
   "metadata": {},
   "outputs": [],
   "source": [
    "import os\n",
    "\n",
    "subscription_id = os.getenv(\"SUBSCRIPTION_ID\", default=\"<my-subscription-id>\")\n",
    "resource_group = os.getenv(\"RESOURCE_GROUP\", default=\"<my-resource-group>\")\n",
    "workspace_name = os.getenv(\"WORKSPACE_NAME\", default=\"<my-workspace-name>\")\n",
    "workspace_region = os.getenv(\"WORKSPACE_REGION\", default=\"eastus2\")"
   ]
  },
  {
   "cell_type": "markdown",
   "metadata": {},
   "source": [
    "#### Kiểm tra workspace đã tồn tại hay chưa"
   ]
  },
  {
   "cell_type": "code",
   "execution_count": 2,
   "metadata": {},
   "outputs": [
    {
     "name": "stderr",
     "output_type": "stream",
     "text": [
      "Warning: Falling back to use azure cli login credentials.\n",
      "If you run your code in unattended mode, i.e., where you can't give a user input, then we recommend to use ServicePrincipalAuthentication or MsiAuthentication.\n",
      "Please refer to aka.ms/aml-notebook-auth for different authentication mechanisms in azureml-sdk.\n"
     ]
    },
    {
     "name": "stdout",
     "output_type": "stream",
     "text": [
      "Workspace đã được tạo thành công, bỏ qua các bước tạo workspace bên dưới\n"
     ]
    }
   ],
   "source": [
    "from azureml.core import Workspace\n",
    "\n",
    "try:\n",
    "    ws = Workspace(\n",
    "        subscription_id=subscription_id,\n",
    "        resource_group=resource_group,\n",
    "        workspace_name=workspace_name,\n",
    "    )\n",
    "    # Viết thông tin cài đặt workspace vào file config.json\n",
    "    ws.write_config()\n",
    "\n",
    "    print(\"Workspace đã được tạo thành công, bỏ qua các bước tạo workspace bên dưới\")\n",
    "except:\n",
    "    print(\n",
    "        \"Không thể kết nối đến workspace, vui lòng kiểm tra lại thông tin cài đặt hoặc tạo workspace mới\"\n",
    "    )"
   ]
  },
  {
   "cell_type": "markdown",
   "metadata": {},
   "source": [
    "#### Workspace chưa tồn tại thì hoàn toàn có thể tạo mới hãy thực hiện bước sau:"
   ]
  },
  {
   "cell_type": "code",
   "execution_count": 4,
   "metadata": {},
   "outputs": [
    {
     "name": "stdout",
     "output_type": "stream",
     "text": [
      "Deploying StorageAccount with name machineestorageadc326696.\n",
      "Deploying AppInsights with name machineeinsightsb654398b.\n",
      "Deployed AppInsights with name machineeinsightsb654398b. Took 14.75 seconds.\n",
      "Deploying KeyVault with name machineekeyvault5d254c46.\n",
      "Deployed KeyVault with name machineekeyvault5d254c46. Took 31.53 seconds.\n",
      "Deployed StorageAccount with name machineestorageadc326696. Took 34.49 seconds.\n",
      "Deploying Workspace with name Machine_Experiment.\n",
      "Deployed Workspace with name Machine_Experiment. Took 23.07 seconds.\n"
     ]
    }
   ],
   "source": [
    "from azureml.core import Workspace\n",
    "\n",
    "ws = Workspace.create(\n",
    "    name=workspace_name,\n",
    "    subscription_id=subscription_id,\n",
    "    resource_group=resource_group,\n",
    "    location=workspace_region,\n",
    "    create_resource_group=True,\n",
    "    exist_ok=True,\n",
    ")\n",
    "ws.get_details()\n",
    "\n",
    "ws.write_config()"
   ]
  },
  {
   "cell_type": "markdown",
   "metadata": {},
   "source": [
    "> Sau từ 5-10 phút các tài nguyên sẽ được tạo. Hoàn thành khởi tạo và cài đặt Azure ML của iêng bạn"
   ]
  }
 ],
 "metadata": {
  "kernelspec": {
   "display_name": "azureml",
   "language": "python",
   "name": "python3"
  },
  "language_info": {
   "codemirror_mode": {
    "name": "ipython",
    "version": 3
   },
   "file_extension": ".py",
   "mimetype": "text/x-python",
   "name": "python",
   "nbconvert_exporter": "python",
   "pygments_lexer": "ipython3",
   "version": "3.11.8"
  }
 },
 "nbformat": 4,
 "nbformat_minor": 2
}
