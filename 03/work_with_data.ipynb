{
 "cells": [
  {
   "cell_type": "markdown",
   "metadata": {},
   "source": [
    "# Sơ bộ về URIs (Uniform Resource Identifiers)\n",
    "\n",
    "URI là địa chỉ tham chiếu đến nơi lưu trữ dữ liệu của bạn. Để Azure Machine Learning có thể kết nối đến dữ liệu của bạn, bạn cần thêm tiền tố URI vào giao thức thích hợp. Có 3 giao thức bạn có thể làm việc với data ở trong AzureML:\n",
    "- ```http(s)```: Sử dụng cho dữ liệu được lưu (publicly or privately) trong Azure Blob Storage hoặc địa chỉ http(s) publicly khả dụng\n",
    "- ```abfs(s)```: Sử dụng cho dữ liệu được lưu ở trong Azure Data Lake Storage Gen 2\n",
    "- ```azureml```: Sử dụng cho dữ liệu được lưu trong datastore\n",
    "\n",
    "> **Chú ý**: Hãy chắc chắn rằng bạn đã cài đặt AzureML SDK python. Chạy lệnh dưới để xác nhận"
   ]
  },
  {
   "cell_type": "code",
   "execution_count": 1,
   "metadata": {},
   "outputs": [
    {
     "name": "stdout",
     "output_type": "stream",
     "text": [
      "Name: azure-ai-ml\n",
      "Version: 1.14.0\n",
      "Summary: Microsoft Azure Machine Learning Client Library for Python\n",
      "Home-page: https://github.com/Azure/azure-sdk-for-python\n",
      "Author: Microsoft Corporation\n",
      "Author-email: azuresdkengsysadmins@microsoft.com\n",
      "License: MIT License\n",
      "Location: d:\\anaconda\\envs\\azureml\\Lib\\site-packages\n",
      "Requires: azure-common, azure-core, azure-mgmt-core, azure-storage-blob, azure-storage-file-datalake, azure-storage-file-share, colorama, isodate, jsonschema, marshmallow, msrest, opencensus-ext-azure, opencensus-ext-logging, pydash, pyjwt, pyyaml, strictyaml, tqdm, typing-extensions\n",
      "Required-by: \n",
      "Note: you may need to restart the kernel to use updated packages.\n"
     ]
    }
   ],
   "source": [
    "pip show azure-ai-ml"
   ]
  },
  {
   "cell_type": "code",
   "execution_count": 2,
   "metadata": {},
   "outputs": [],
   "source": [
    "import os\n",
    "\n",
    "subscription_id = os.getenv(\"SUBSCRIPTION_ID\", default=\"<my-subscription-id>\")\n",
    "resource_group = os.getenv(\"RESOURCE_GROUP\", default=\"<my-resource-group>\")\n",
    "workspace_name = os.getenv(\"WORKSPACE_NAME\", default=\"<my-workspace-name>\")\n",
    "workspace_region = os.getenv(\"WORKSPACE_REGION\", default=\"eastus2\")\n",
    "storage_account_name = os.getenv(\"STORAGE_ACCOUNT_NAME\", default=\"<my-storage-account-name>\")\n",
    "container_name = os.getenv(\"CONTAINER_NAME\", default=\"<my-container-name>\")\n",
    "storage_account_key = os.getenv(\"STORAGE_ACCOUNT_KEY\", default=\"<my-storage-account-key>\")"
   ]
  },
  {
   "cell_type": "markdown",
   "metadata": {},
   "source": [
    "---\n",
    "# Kết nối với Azure Machine Learning Client\n",
    "- credential: Là gói xác thực hiện tại đang để Default\n",
    "\n",
    "Hãy chắc chắn rằng bạn đã xác thực cả AzureCLI ```azd auth login```"
   ]
  },
  {
   "cell_type": "code",
   "execution_count": 3,
   "metadata": {},
   "outputs": [],
   "source": [
    "from azure.ai.ml import MLClient\n",
    "from azure.identity import DefaultAzureCredential\n",
    "\n",
    "credential = DefaultAzureCredential()\n",
    "\n",
    "ml_client = MLClient(\n",
    "    credential=credential,\n",
    "    subscription_id=subscription_id,\n",
    "    resource_group_name=resource_group,\n",
    "    workspace_name=workspace_name,\n",
    ")"
   ]
  },
  {
   "cell_type": "markdown",
   "metadata": {},
   "source": [
    "# Kiểm tra danh sách datastores đã được khởi tạo.\n",
    "\n",
    "Khi bạn tạo AzureML workspace thì một Azure Storage account cũng được khởi tạo theo. Storage Account bao gồm blob và file storage và được tự động kết nối với workspace của bạn dưới dạng kho dữ liệu."
   ]
  },
  {
   "cell_type": "code",
   "execution_count": 4,
   "metadata": {},
   "outputs": [
    {
     "name": "stdout",
     "output_type": "stream",
     "text": [
      "blob_example\n",
      "azureml_globaldatasets\n",
      "workspaceworkingdirectory\n",
      "workspaceartifactstore\n",
      "workspaceblobstore\n",
      "workspacefilestore\n"
     ]
    }
   ],
   "source": [
    "stores = ml_client.datastores.list()\n",
    "for ds_name in stores:\n",
    "    print(ds_name.name)"
   ]
  },
  {
   "cell_type": "markdown",
   "metadata": {},
   "source": [
    "---\n",
    "# Khởi tạo datastore\n",
    "\n",
    "Mỗi khi bạn muốn kết nối với một dịch vụ Azure Storage nào khác với AzureML workspace bạn cần phải tạo datastore. chú ý rằng khi bạn tạo datastore sẽ tạo kết nối giữa workspace của bạn và bộ lưu trữ chứ ko tạo ra dịch vụ lưu trữ.\n",
    "\n",
    "Để tạo một datastore và kết nối đến nó bạn cần chỉ định các thông tin:\n",
    "- name: tên hiển thị của datastore trong AzureML workspace\n",
    "- description: Mô tả về khi dữ liệu\n",
    "- account_name: tên của Azure Storage Account\n",
    "- container_name:: tên của container đến blob store trong AzureStorageAccount\n",
    "- credentials: Auth"
   ]
  },
  {
   "cell_type": "code",
   "execution_count": 5,
   "metadata": {},
   "outputs": [
    {
     "data": {
      "text/plain": [
       "AzureBlobDatastore({'type': <DatastoreType.AZURE_BLOB: 'AzureBlob'>, 'name': 'blob_example', 'description': 'Datastore pointing to a blob container', 'tags': {}, 'properties': {}, 'print_as_yaml': False, 'id': '/subscriptions/da6080d2-3021-495c-8ecc-44feb23b1080/resourceGroups/Machine_Learning_dev01/providers/Microsoft.MachineLearningServices/workspaces/Machine_Experiment/datastores/blob_example', 'Resource__source_path': '', 'base_path': 'g:\\\\AzureML_CouresVN\\\\03', 'creation_context': None, 'serialize': <msrest.serialization.Serializer object at 0x000002A25A3A2F10>, 'credentials': {'type': 'account_key'}, 'container_name': 'data-container', 'account_name': 'machineestorageadc326696', 'endpoint': 'core.windows.net', 'protocol': 'https'})"
      ]
     },
     "execution_count": 5,
     "metadata": {},
     "output_type": "execute_result"
    }
   ],
   "source": [
    "from azure.ai.ml.entities import AzureBlobDatastore\n",
    "from azure.ai.ml.entities import AccountKeyConfiguration\n",
    "\n",
    "blob_datastore = AzureBlobDatastore(\n",
    "    name=\"blob_example\",\n",
    "    description=\"Datastore pointing to a blob container\",\n",
    "    account_name=storage_account_name,\n",
    "    container_name=container_name,\n",
    "    credentials=AccountKeyConfiguration(account_key=storage_account_key),\n",
    ")\n",
    "ml_client.create_or_update(blob_datastore)"
   ]
  },
  {
   "cell_type": "code",
   "execution_count": 6,
   "metadata": {},
   "outputs": [
    {
     "name": "stdout",
     "output_type": "stream",
     "text": [
      "blob_example\n",
      "azureml_globaldatasets\n",
      "workspaceworkingdirectory\n",
      "workspaceartifactstore\n",
      "workspaceblobstore\n",
      "workspacefilestore\n"
     ]
    }
   ],
   "source": [
    "stores = ml_client.datastores.list()\n",
    "for ds_name in stores:\n",
    "    print(ds_name.name)"
   ]
  },
  {
   "cell_type": "markdown",
   "metadata": {},
   "source": [
    "# Khởi tạo Data assets\n",
    "\n",
    "Là một data scientes bạn muốn tập trung vào việc huấn luyện mô hình học máy. Vì điều đó nên bạn cần truy cập vào data để làm đầu vào cho mô hình học máy của bạn nhưng bạn không hề muốn lo lắng về việc làm sao để truy cập vào dữ liệu đó lúc này chính là lúc bạn cần đến data assets. Bạn có thể dùng data assets để truy câph vào data trong datastores, Azure Storage Account, punlic URLs hoặc là data được lưu trữ trên máy làm việc của bạn.\n",
    "\n",
    "Lợi ích của việc sử dụng data assets:\n",
    "\n",
    "- Bạn có thể chia sẻ và tái sử dụng dữ liệu với các thành viên khác trong team của bạn mà họ không cần phải nhớ vị trí của dữ liệu\n",
    "- Bạn có thể truy cập dữ liệu liên tục trong quá trình đào tạo dữ liệu mà bạn không cần lo lắng về connection string hoặc data path \n",
    "- Bạn có thể version metadata của data asset\n",
    "\n",
    "Có 3 kiểu chính của data assets mà bạn có thể sử dụng: ```URI File```, ```URI Folder```, ```ML Table```\n",
    "- URI file: điểm đến của file được chỉ định\n",
    "- URI folder: điểm đến một folder\n",
    "- ML Table: Điểm đến một folder hơacj file bao gồm một khung để đọc như dữ liệu dạng bảng\n",
    "\n",
    "---\n",
    "# Khởi tạo một URI file data asset\n",
    "\n",
    "Những paths được hỗ trợ khi sử dụng để tạo một URI file data asset:\n",
    "- Local: ```./<path>```\n",
    "- Azure Blob Storage: ```wasbs://<account_name>.blob.core.windows.net/<container_name>/<folder>/<file>```\n",
    "- Azure Data Lake Storage (Gen 2): ```abfss://<file_system>@<account_name>.dfs.core.windows.net/<folder>/<file>```\n",
    "- Datastore: ```azureml://datastores/<datastore_name>/paths/<folder>/<file>```"
   ]
  },
  {
   "cell_type": "code",
   "execution_count": 7,
   "metadata": {},
   "outputs": [
    {
     "data": {
      "text/plain": [
       "Data({'path': 'azureml://subscriptions/da6080d2-3021-495c-8ecc-44feb23b1080/resourcegroups/Machine_Learning_dev01/workspaces/Machine_Experiment/datastores/workspaceblobstore/paths/LocalUpload/5403943f29d8a3f7dc9d03d02305860a/customers-100.csv', 'skip_validation': False, 'mltable_schema_url': None, 'referenced_uris': None, 'type': 'uri_file', 'is_anonymous': False, 'auto_increment_version': False, 'auto_delete_setting': None, 'name': 'local_data', 'description': 'Data from a CSV file', 'tags': {}, 'properties': {}, 'print_as_yaml': False, 'id': '/subscriptions/da6080d2-3021-495c-8ecc-44feb23b1080/resourceGroups/Machine_Learning_dev01/providers/Microsoft.MachineLearningServices/workspaces/Machine_Experiment/data/local_data/versions/1.1.1', 'Resource__source_path': '', 'base_path': 'g:\\\\AzureML_CouresVN\\\\03', 'creation_context': <azure.ai.ml.entities._system_data.SystemData object at 0x000002A25244ED90>, 'serialize': <msrest.serialization.Serializer object at 0x000002A25A24F150>, 'version': '1.1.1', 'latest_version': None, 'datastore': None})"
      ]
     },
     "execution_count": 7,
     "metadata": {},
     "output_type": "execute_result"
    }
   ],
   "source": [
    "from azure.ai.ml.entities import Data\n",
    "from azure.ai.ml.constants import AssetTypes\n",
    "\n",
    "my_path = \"../data/customers-100.csv\"\n",
    "\n",
    "my_data = Data(\n",
    "    path=my_path,\n",
    "    type=AssetTypes.URI_FILE,\n",
    "    description=\"Data from a CSV file\",\n",
    "    name=\"local_data\",\n",
    "    version=\"1.1.1\",\n",
    ")\n",
    "\n",
    "ml_client.data.create_or_update(my_data)"
   ]
  },
  {
   "cell_type": "markdown",
   "metadata": {},
   "source": [
    "---\n",
    "# Khởi tạo URI Folder data asset\n",
    "\n",
    "Để khởi tạo URI Folder data asset bạn cần phải có địa chỉ mà folder được chỉ định đang nằm ở đó. Địa chỉ đó có thể là local hoặc cloud"
   ]
  },
  {
   "cell_type": "code",
   "execution_count": 16,
   "metadata": {},
   "outputs": [
    {
     "data": {
      "text/plain": [
       "Data({'path': 'azureml://subscriptions/da6080d2-3021-495c-8ecc-44feb23b1080/resourcegroups/Machine_Learning_dev01/workspaces/Machine_Experiment/datastores/workspaceblobstore/paths/LocalUpload/de51b946ae51d6489d32b8c402371912/data/', 'skip_validation': False, 'mltable_schema_url': None, 'referenced_uris': None, 'type': 'uri_folder', 'is_anonymous': False, 'auto_increment_version': False, 'auto_delete_setting': None, 'name': 'diabetes-datastore-path', 'description': 'Data asset pointing to data-asset-path folder in datastore', 'tags': {}, 'properties': {}, 'print_as_yaml': False, 'id': '/subscriptions/da6080d2-3021-495c-8ecc-44feb23b1080/resourceGroups/Machine_Learning_dev01/providers/Microsoft.MachineLearningServices/workspaces/Machine_Experiment/data/diabetes-datastore-path/versions/1', 'Resource__source_path': '', 'base_path': 'g:\\\\AzureML_CouresVN\\\\03', 'creation_context': <azure.ai.ml.entities._system_data.SystemData object at 0x000002A2627CB0D0>, 'serialize': <msrest.serialization.Serializer object at 0x000002A25A397CD0>, 'version': '1', 'latest_version': None, 'datastore': None})"
      ]
     },
     "execution_count": 16,
     "metadata": {},
     "output_type": "execute_result"
    }
   ],
   "source": [
    "datastore_path = \"../data\"\n",
    "\n",
    "my_data = Data(\n",
    "    path=datastore_path,\n",
    "    type=AssetTypes.URI_FOLDER,\n",
    "    description=\"Data asset pointing to data-asset-path folder in datastore\",\n",
    "    name=\"diabetes-datastore-path\",\n",
    ")\n",
    "\n",
    "ml_client.data.create_or_update(my_data)"
   ]
  },
  {
   "cell_type": "markdown",
   "metadata": {},
   "source": [
    "---\n",
    "# Khởi tạo ML Table data asset\n",
    "\n",
    "> **Chú ý**: Nếu chưa cài đặt ml table hãy cài đặt bằng dòng lệnh ```pip``` phía dưới"
   ]
  },
  {
   "cell_type": "code",
   "execution_count": 8,
   "metadata": {},
   "outputs": [],
   "source": [
    "# !pip install -U mltable azureml-dataprep[pandas]"
   ]
  },
  {
   "cell_type": "code",
   "execution_count": 9,
   "metadata": {},
   "outputs": [
    {
     "data": {
      "text/html": [
       "<div>\n",
       "<style scoped>\n",
       "    .dataframe tbody tr th:only-of-type {\n",
       "        vertical-align: middle;\n",
       "    }\n",
       "\n",
       "    .dataframe tbody tr th {\n",
       "        vertical-align: top;\n",
       "    }\n",
       "\n",
       "    .dataframe thead th {\n",
       "        text-align: right;\n",
       "    }\n",
       "</style>\n",
       "<table border=\"1\" class=\"dataframe\">\n",
       "  <thead>\n",
       "    <tr style=\"text-align: right;\">\n",
       "      <th></th>\n",
       "      <th>Survived</th>\n",
       "      <th>Pclass</th>\n",
       "      <th>Name</th>\n",
       "      <th>Sex</th>\n",
       "      <th>Age</th>\n",
       "      <th>SibSp</th>\n",
       "      <th>Parch</th>\n",
       "      <th>Ticket</th>\n",
       "      <th>Fare</th>\n",
       "      <th>Cabin</th>\n",
       "      <th>Embarked</th>\n",
       "    </tr>\n",
       "  </thead>\n",
       "  <tbody>\n",
       "    <tr>\n",
       "      <th>0</th>\n",
       "      <td>False</td>\n",
       "      <td>3</td>\n",
       "      <td>Braund, Mr. Owen Harris</td>\n",
       "      <td>male</td>\n",
       "      <td>22.0</td>\n",
       "      <td>1</td>\n",
       "      <td>0</td>\n",
       "      <td>A/5 21171</td>\n",
       "      <td>7.2500</td>\n",
       "      <td>None</td>\n",
       "      <td>S</td>\n",
       "    </tr>\n",
       "    <tr>\n",
       "      <th>1</th>\n",
       "      <td>True</td>\n",
       "      <td>1</td>\n",
       "      <td>Cumings, Mrs. John Bradley (Florence Briggs Th...</td>\n",
       "      <td>female</td>\n",
       "      <td>38.0</td>\n",
       "      <td>1</td>\n",
       "      <td>0</td>\n",
       "      <td>PC 17599</td>\n",
       "      <td>71.2833</td>\n",
       "      <td>C85</td>\n",
       "      <td>C</td>\n",
       "    </tr>\n",
       "    <tr>\n",
       "      <th>2</th>\n",
       "      <td>True</td>\n",
       "      <td>3</td>\n",
       "      <td>Heikkinen, Miss. Laina</td>\n",
       "      <td>female</td>\n",
       "      <td>26.0</td>\n",
       "      <td>0</td>\n",
       "      <td>0</td>\n",
       "      <td>STON/O2. 3101282</td>\n",
       "      <td>7.9250</td>\n",
       "      <td>None</td>\n",
       "      <td>S</td>\n",
       "    </tr>\n",
       "    <tr>\n",
       "      <th>3</th>\n",
       "      <td>True</td>\n",
       "      <td>1</td>\n",
       "      <td>Futrelle, Mrs. Jacques Heath (Lily May Peel)</td>\n",
       "      <td>female</td>\n",
       "      <td>35.0</td>\n",
       "      <td>1</td>\n",
       "      <td>0</td>\n",
       "      <td>113803</td>\n",
       "      <td>53.1000</td>\n",
       "      <td>C123</td>\n",
       "      <td>S</td>\n",
       "    </tr>\n",
       "    <tr>\n",
       "      <th>4</th>\n",
       "      <td>False</td>\n",
       "      <td>3</td>\n",
       "      <td>Allen, Mr. William Henry</td>\n",
       "      <td>male</td>\n",
       "      <td>35.0</td>\n",
       "      <td>0</td>\n",
       "      <td>0</td>\n",
       "      <td>373450</td>\n",
       "      <td>8.0500</td>\n",
       "      <td>None</td>\n",
       "      <td>S</td>\n",
       "    </tr>\n",
       "  </tbody>\n",
       "</table>\n",
       "</div>"
      ],
      "text/plain": [
       "   Survived  Pclass                                               Name  \\\n",
       "0     False       3                            Braund, Mr. Owen Harris   \n",
       "1      True       1  Cumings, Mrs. John Bradley (Florence Briggs Th...   \n",
       "2      True       3                             Heikkinen, Miss. Laina   \n",
       "3      True       1       Futrelle, Mrs. Jacques Heath (Lily May Peel)   \n",
       "4     False       3                           Allen, Mr. William Henry   \n",
       "\n",
       "      Sex   Age  SibSp  Parch            Ticket     Fare Cabin Embarked  \n",
       "0    male  22.0      1      0         A/5 21171   7.2500  None        S  \n",
       "1  female  38.0      1      0          PC 17599  71.2833   C85        C  \n",
       "2  female  26.0      0      0  STON/O2. 3101282   7.9250  None        S  \n",
       "3  female  35.0      1      0            113803  53.1000  C123        S  \n",
       "4    male  35.0      0      0            373450   8.0500  None        S  "
      ]
     },
     "execution_count": 9,
     "metadata": {},
     "output_type": "execute_result"
    }
   ],
   "source": [
    "import mltable\n",
    "from mltable import MLTableHeaders, MLTableFileEncoding, DataType\n",
    "\n",
    "# create paths to the data files\n",
    "paths = [{\"file\": \"wasbs://data@azuremlexampledata.blob.core.windows.net/titanic.csv\"}]\n",
    "\n",
    "# create an MLTable from the data files\n",
    "tbl = mltable.from_delimited_files(\n",
    "    paths=paths,\n",
    "    delimiter=\",\",\n",
    "    header=MLTableHeaders.all_files_same_headers,\n",
    "    infer_column_types=True,\n",
    "    include_path_column=False,\n",
    "    encoding=MLTableFileEncoding.utf8,\n",
    ")\n",
    "\n",
    "# filter out rows undefined ages\n",
    "tbl = tbl.filter(\"col('Age') > 0\")\n",
    "\n",
    "# drop PassengerId\n",
    "tbl = tbl.drop_columns([\"PassengerId\"])\n",
    "\n",
    "# ensure survived column is treated as boolean\n",
    "data_types = {\n",
    "    \"Survived\": DataType.to_bool(\n",
    "        true_values=[\"True\", \"true\", \"1\"], false_values=[\"False\", \"false\", \"0\"]\n",
    "    )\n",
    "}\n",
    "tbl = tbl.convert_column_types(data_types)\n",
    "\n",
    "# show the first 5 records\n",
    "tbl.show(5)\n",
    "\n",
    "# You can also load into pandas...\n",
    "# df = tbl.to_pandas_dataframe()\n",
    "# df.head(5)"
   ]
  },
  {
   "cell_type": "code",
   "execution_count": 11,
   "metadata": {},
   "outputs": [
    {
     "data": {
      "text/plain": [
       "paths:\n",
       "- file: wasbs://data@azuremlexampledata.blob.core.windows.net/titanic.csv\n",
       "transformations:\n",
       "- read_delimited:\n",
       "    delimiter: ','\n",
       "    empty_as_string: false\n",
       "    encoding: utf8\n",
       "    header: all_files_same_headers\n",
       "    include_path_column: false\n",
       "    infer_column_types: true\n",
       "    partition_size: 20971520\n",
       "    path_column: Path\n",
       "    support_multi_line: false\n",
       "- filter: col('Age') > 0\n",
       "- drop_columns:\n",
       "  - PassengerId\n",
       "- convert_column_types:\n",
       "  - column_type:\n",
       "      boolean:\n",
       "        false_values:\n",
       "        - '0'\n",
       "        - 'False'\n",
       "        - 'false'\n",
       "        mismatch_as: error\n",
       "        true_values:\n",
       "        - '1'\n",
       "        - 'True'\n",
       "        - 'true'\n",
       "    columns: Survived\n",
       "type: mltable"
      ]
     },
     "execution_count": 11,
     "metadata": {},
     "output_type": "execute_result"
    }
   ],
   "source": [
    "# save the data loading steps in an MLTable file\n",
    "# NOTE: the tbl object was defined in the previous snippet.\n",
    "tbl.save(\"../data/titanic\")"
   ]
  },
  {
   "cell_type": "code",
   "execution_count": 12,
   "metadata": {},
   "outputs": [
    {
     "name": "stderr",
     "output_type": "stream",
     "text": [
      "Uploading titanic (0.0 MBs): 100%|##########| 704/704 [00:00<00:00, 701208.74it/s]\n",
      "\n",
      "\n"
     ]
    },
    {
     "data": {
      "text/plain": [
       "Data({'path': 'azureml://subscriptions/da6080d2-3021-495c-8ecc-44feb23b1080/resourcegroups/Machine_Learning_dev01/workspaces/Machine_Experiment/datastores/workspaceblobstore/paths/LocalUpload/5a45a2fb5468da6202be6272df8e7456/titanic/', 'skip_validation': False, 'mltable_schema_url': None, 'referenced_uris': ['wasbs://data@azuremlexampledata.blob.core.windows.net/titanic.csv'], 'type': 'mltable', 'is_anonymous': False, 'auto_increment_version': False, 'auto_delete_setting': None, 'name': 'diabetes-table', 'description': 'MLTable pointing to diabetes.csv in data folder', 'tags': {}, 'properties': {}, 'print_as_yaml': False, 'id': '/subscriptions/da6080d2-3021-495c-8ecc-44feb23b1080/resourceGroups/Machine_Learning_dev01/providers/Microsoft.MachineLearningServices/workspaces/Machine_Experiment/data/diabetes-table/versions/1', 'Resource__source_path': '', 'base_path': 'g:\\\\AzureML_CouresVN\\\\03', 'creation_context': <azure.ai.ml.entities._system_data.SystemData object at 0x000002A25C4B2910>, 'serialize': <msrest.serialization.Serializer object at 0x000002A265628550>, 'version': '1', 'latest_version': None, 'datastore': None})"
      ]
     },
     "execution_count": 12,
     "metadata": {},
     "output_type": "execute_result"
    }
   ],
   "source": [
    "from azure.ai.ml.entities import Data\n",
    "from azure.ai.ml.constants import AssetTypes\n",
    "\n",
    "local_path = \"../data/titanic\"\n",
    "\n",
    "my_data = Data(\n",
    "    path=local_path,\n",
    "    type=AssetTypes.MLTABLE,\n",
    "    description=\"MLTable pointing to diabetes.csv in data folder\",\n",
    "    name=\"diabetes-table\",\n",
    ")\n",
    "ml_client.data.create_or_update(my_data)"
   ]
  },
  {
   "cell_type": "markdown",
   "metadata": {},
   "source": [
    "---\n",
    "\n",
    "# Đọc data trong data assets đã tạo "
   ]
  },
  {
   "cell_type": "code",
   "execution_count": 17,
   "metadata": {},
   "outputs": [
    {
     "data": {
      "text/html": [
       "<div>\n",
       "<style scoped>\n",
       "    .dataframe tbody tr th:only-of-type {\n",
       "        vertical-align: middle;\n",
       "    }\n",
       "\n",
       "    .dataframe tbody tr th {\n",
       "        vertical-align: top;\n",
       "    }\n",
       "\n",
       "    .dataframe thead th {\n",
       "        text-align: right;\n",
       "    }\n",
       "</style>\n",
       "<table border=\"1\" class=\"dataframe\">\n",
       "  <thead>\n",
       "    <tr style=\"text-align: right;\">\n",
       "      <th></th>\n",
       "      <th>Survived</th>\n",
       "      <th>Pclass</th>\n",
       "      <th>Name</th>\n",
       "      <th>Sex</th>\n",
       "      <th>Age</th>\n",
       "      <th>SibSp</th>\n",
       "      <th>Parch</th>\n",
       "      <th>Ticket</th>\n",
       "      <th>Fare</th>\n",
       "      <th>Cabin</th>\n",
       "      <th>Embarked</th>\n",
       "    </tr>\n",
       "  </thead>\n",
       "  <tbody>\n",
       "    <tr>\n",
       "      <th>0</th>\n",
       "      <td>False</td>\n",
       "      <td>3</td>\n",
       "      <td>Braund, Mr. Owen Harris</td>\n",
       "      <td>male</td>\n",
       "      <td>22.0</td>\n",
       "      <td>1</td>\n",
       "      <td>0</td>\n",
       "      <td>A/5 21171</td>\n",
       "      <td>7.2500</td>\n",
       "      <td>None</td>\n",
       "      <td>S</td>\n",
       "    </tr>\n",
       "    <tr>\n",
       "      <th>1</th>\n",
       "      <td>True</td>\n",
       "      <td>1</td>\n",
       "      <td>Cumings, Mrs. John Bradley (Florence Briggs Th...</td>\n",
       "      <td>female</td>\n",
       "      <td>38.0</td>\n",
       "      <td>1</td>\n",
       "      <td>0</td>\n",
       "      <td>PC 17599</td>\n",
       "      <td>71.2833</td>\n",
       "      <td>C85</td>\n",
       "      <td>C</td>\n",
       "    </tr>\n",
       "    <tr>\n",
       "      <th>2</th>\n",
       "      <td>True</td>\n",
       "      <td>3</td>\n",
       "      <td>Heikkinen, Miss. Laina</td>\n",
       "      <td>female</td>\n",
       "      <td>26.0</td>\n",
       "      <td>0</td>\n",
       "      <td>0</td>\n",
       "      <td>STON/O2. 3101282</td>\n",
       "      <td>7.9250</td>\n",
       "      <td>None</td>\n",
       "      <td>S</td>\n",
       "    </tr>\n",
       "    <tr>\n",
       "      <th>3</th>\n",
       "      <td>True</td>\n",
       "      <td>1</td>\n",
       "      <td>Futrelle, Mrs. Jacques Heath (Lily May Peel)</td>\n",
       "      <td>female</td>\n",
       "      <td>35.0</td>\n",
       "      <td>1</td>\n",
       "      <td>0</td>\n",
       "      <td>113803</td>\n",
       "      <td>53.1000</td>\n",
       "      <td>C123</td>\n",
       "      <td>S</td>\n",
       "    </tr>\n",
       "    <tr>\n",
       "      <th>4</th>\n",
       "      <td>False</td>\n",
       "      <td>3</td>\n",
       "      <td>Allen, Mr. William Henry</td>\n",
       "      <td>male</td>\n",
       "      <td>35.0</td>\n",
       "      <td>0</td>\n",
       "      <td>0</td>\n",
       "      <td>373450</td>\n",
       "      <td>8.0500</td>\n",
       "      <td>None</td>\n",
       "      <td>S</td>\n",
       "    </tr>\n",
       "  </tbody>\n",
       "</table>\n",
       "</div>"
      ],
      "text/plain": [
       "   Survived  Pclass                                               Name  \\\n",
       "0     False       3                            Braund, Mr. Owen Harris   \n",
       "1      True       1  Cumings, Mrs. John Bradley (Florence Briggs Th...   \n",
       "2      True       3                             Heikkinen, Miss. Laina   \n",
       "3      True       1       Futrelle, Mrs. Jacques Heath (Lily May Peel)   \n",
       "4     False       3                           Allen, Mr. William Henry   \n",
       "\n",
       "      Sex   Age  SibSp  Parch            Ticket     Fare Cabin Embarked  \n",
       "0    male  22.0      1      0         A/5 21171   7.2500  None        S  \n",
       "1  female  38.0      1      0          PC 17599  71.2833   C85        C  \n",
       "2  female  26.0      0      0  STON/O2. 3101282   7.9250  None        S  \n",
       "3  female  35.0      1      0            113803  53.1000  C123        S  \n",
       "4    male  35.0      0      0            373450   8.0500  None        S  "
      ]
     },
     "execution_count": 17,
     "metadata": {},
     "output_type": "execute_result"
    }
   ],
   "source": [
    "import mltable\n",
    "\n",
    "registered_data_asset = ml_client.data.get(name=\"diabetes-table\", version=1)\n",
    "tbl = mltable.load(f\"azureml:/{registered_data_asset.id}\")\n",
    "df = tbl.to_pandas_dataframe()\n",
    "df.head(5)"
   ]
  },
  {
   "cell_type": "markdown",
   "metadata": {},
   "source": [
    "# Test thử trong 1 job"
   ]
  },
  {
   "cell_type": "code",
   "execution_count": null,
   "metadata": {},
   "outputs": [],
   "source": [
    "import os\n",
    "\n",
    "# create a folder for the script files\n",
    "script_folder = \"src\"\n",
    "os.makedirs(script_folder, exist_ok=True)\n",
    "print(script_folder, \"folder created\")"
   ]
  },
  {
   "cell_type": "code",
   "execution_count": null,
   "metadata": {},
   "outputs": [],
   "source": [
    "%%writefile $script_folder/move-data.py\n",
    "# import libraries\n",
    "import argparse\n",
    "import pandas as pd\n",
    "import numpy as np\n",
    "from pathlib import Path\n",
    "\n",
    "def main(args):\n",
    "    # read data\n",
    "    df = get_data(args.input_data)\n",
    "\n",
    "    output_df = df.to_csv((Path(args.output_datastore) / \"diabetes.csv\"), index = False)\n",
    "\n",
    "# function that reads the data\n",
    "def get_data(path):\n",
    "    df = pd.read_csv(path)\n",
    "\n",
    "    # Count the rows and print the result\n",
    "    row_count = (len(df))\n",
    "    print('Analyzing {} rows of data'.format(row_count))\n",
    "    \n",
    "    return df\n",
    "\n",
    "def parse_args():\n",
    "    # setup arg parser\n",
    "    parser = argparse.ArgumentParser()\n",
    "\n",
    "    # add arguments\n",
    "    parser.add_argument(\"--input_data\", dest='input_data',\n",
    "                        type=str)\n",
    "    parser.add_argument(\"--output_datastore\", dest='output_datastore',\n",
    "                        type=str)\n",
    "\n",
    "    # parse args\n",
    "    args = parser.parse_args()\n",
    "\n",
    "    # return args\n",
    "    return args\n",
    "\n",
    "# run script\n",
    "if __name__ == \"__main__\":\n",
    "    # add space in logs\n",
    "    print(\"\\n\\n\")\n",
    "    print(\"*\" * 60)\n",
    "\n",
    "    # parse args\n",
    "    args = parse_args()\n",
    "\n",
    "    # run main function\n",
    "    main(args)\n",
    "\n",
    "    # add space in logs\n",
    "    print(\"*\" * 60)\n",
    "    print(\"\\n\\n\")"
   ]
  },
  {
   "cell_type": "code",
   "execution_count": null,
   "metadata": {},
   "outputs": [],
   "source": [
    "from azure.ai.ml import Input, Output\n",
    "from azure.ai.ml.constants import AssetTypes\n",
    "from azure.ai.ml import command\n",
    "\n",
    "# configure input and output\n",
    "my_job_inputs = {\n",
    "    \"local_data\": Input(type=AssetTypes.URI_FILE, path=\"azureml:diabetes-local:1\")\n",
    "}\n",
    "\n",
    "my_job_outputs = {\n",
    "    \"datastore_data\": Output(type=AssetTypes.URI_FOLDER, path=\"azureml://datastores/blob_training_data/paths/datastore-path\")\n",
    "}\n",
    "\n",
    "# configure job\n",
    "job = command(\n",
    "    code=\"./src\",\n",
    "    command=\"python move-data.py --input_data {{input.local_data}} --output_datastore {{outputs.datastore_data}}\",\n",
    "    inputs=my_job_inputs,\n",
    "    outputs=my_job_outputs,\n",
    "    environment=\"AzureML-sklearn-0.24-ubuntu18.04-py37-cpu@latest\",\n",
    "    compute=\"aml-cluster\",\n",
    "    display_name=\"move-diabetes-data\",\n",
    "    experiment_name=\"move-diabetes-data\",\n",
    ")\n",
    "\n",
    "# submit job\n",
    "returned_job = ml_client.create_or_update(job)\n",
    "aml_url = returned_job.studio_url\n",
    "print(\"Monitor your job at\", aml_url)"
   ]
  }
 ],
 "metadata": {
  "kernelspec": {
   "display_name": "azureml",
   "language": "python",
   "name": "python3"
  },
  "language_info": {
   "codemirror_mode": {
    "name": "ipython",
    "version": 3
   },
   "file_extension": ".py",
   "mimetype": "text/x-python",
   "name": "python",
   "nbconvert_exporter": "python",
   "pygments_lexer": "ipython3",
   "version": "3.11.8"
  }
 },
 "nbformat": 4,
 "nbformat_minor": 2
}
